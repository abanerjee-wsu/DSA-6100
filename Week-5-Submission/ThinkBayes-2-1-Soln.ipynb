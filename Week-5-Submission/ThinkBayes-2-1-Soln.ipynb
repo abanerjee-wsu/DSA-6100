{
 "cells": [
  {
   "cell_type": "markdown",
   "metadata": {},
   "source": [
    "## Cooking Problem using Bayes Theorem - With Replacement\n",
    "\n",
    "Problem Definition: There are two bowls with cookie. Bowl-1 has 30 Vanilla Cookies and 10 Chocolate cookies. Bowl-2 has 20 Vanilla Cookies and 20 Chocolate cookies. If we grab three cookie randomly from the same bowl and do not replace them back (let's say each time we pick and eat them), what is the probability that those cookies are taken from Bowl-1 (or for that matter Bowl-2)\n",
    "\n",
    "To breakdow the problem we have three steps: Lets say we are picking Vanilla, Chocolate and Vanilla in an order manner.\n",
    "\n",
    "Step1: While picking Vanilla Cookie, from Bowl 1\n",
    "\n",
    "P(Bowl-1 | Vanilla) = P(Bowl-1) X P(Vanilla | Bowl-1)/P(Vanilla)\n",
    "\n",
    "At begining, we have equal probability to pick Bowls. Therefore : P(Bowl-1) = .5\n",
    "\n",
    "There are 30 Vanillas initially out of total cookies 40, thus the P(Vanilla | Bowl-1) = .75. The normalizing condition here is P(Vanilla) = .5*.75 + .5*.5\n",
    "\n",
    "This gives the final value of P(Bowl-1 | Vanilla) = .6\n",
    "\n",
    "Step2: Because we are not replacing back the cookie, in the next step, we reduce the count of the cookie. This time we are picking chocolate cookie. However the trick here that as we dont know from which bowl the last cookie was picked up we must reduce the count from both the bowl.\n",
    "\n",
    "P(vanilla) = .6*29/39 + .4*19/39 = .6*.743 + .4 * .194 = 125/195 = .641\n",
    "P(Chocolate)  = 1 - P(Vanilla)  =  .359\n",
    "\n",
    "P(Bowl-1 | Chocolate) = .6*10/39 / .359\n",
    "\n",
    "Step3: Is the repetition of the step2. But this time we pick Vanilla. But steps are same.\n"
   ]
  },
  {
   "cell_type": "code",
   "execution_count": 1,
   "metadata": {},
   "outputs": [
    {
     "name": "stdout",
     "output_type": "stream",
     "text": [
      "Hist({'vanilla': 29, 'chocolate': 10}) 0.6000000000000001\n",
      "Hist({'vanilla': 19, 'chocolate': 20}) 0.4\n",
      "Hist({'vanilla': 29, 'chocolate': 9}) 0.4285714285714286\n",
      "Hist({'vanilla': 19, 'chocolate': 19}) 0.5714285714285714\n",
      "Hist({'vanilla': 28, 'chocolate': 9}) 0.5337423312883436\n",
      "Hist({'vanilla': 18, 'chocolate': 19}) 0.4662576687116564\n"
     ]
    }
   ],
   "source": [
    "from thinkbayes2 import Pmf, Hist\n",
    "\n",
    "def Update(pmf, data):\n",
    "    \"\"\"Updates the PMF with new data.\n",
    "    data: string cookie type\n",
    "        \"\"\"\n",
    "    #loop through each hypothesis under pmf, multiply with likelihood/  \n",
    "    for hypo in pmf:\n",
    "        pmf[hypo] = pmf[hypo] * Likelihood(hypo, data)\n",
    "    return pmf.Normalize()\n",
    "\n",
    "def Likelihood(hypo, data):\n",
    "    \"\"\"The likelihood of the data under the hypothesis.\n",
    "        data: string cookie type\n",
    "        hypo: string bowl ID\n",
    "        \"\"\"\n",
    "    like = hypo[data]/hypo.Total()\n",
    "    if like:\n",
    "        hypo[data] = hypo[data] - 1\n",
    "    return like\n",
    "    \n",
    "\n",
    "        \n",
    "def main():\n",
    "        \n",
    "    bowl1 = Hist(dict(vanilla=30, chocolate=10))\n",
    "    bowl2 = Hist(dict(vanilla=20, chocolate=20))\n",
    "    \n",
    "    pmf = Pmf([bowl1, bowl2])\n",
    "    \n",
    "    cookies = ['vanilla','chocolate','vanilla']\n",
    "    \n",
    "    for pick in cookies:\n",
    "        Update(pmf, pick)\n",
    "        pmf.Print()\n",
    "        \n",
    "    \n",
    " \n",
    "      \n",
    "if __name__ == '__main__':\n",
    "    main()"
   ]
  }
 ],
 "metadata": {
  "kernelspec": {
   "display_name": "Python 3",
   "language": "python",
   "name": "python3"
  },
  "language_info": {
   "codemirror_mode": {
    "name": "ipython",
    "version": 3
   },
   "file_extension": ".py",
   "mimetype": "text/x-python",
   "name": "python",
   "nbconvert_exporter": "python",
   "pygments_lexer": "ipython3",
   "version": "3.6.2"
  }
 },
 "nbformat": 4,
 "nbformat_minor": 2
}

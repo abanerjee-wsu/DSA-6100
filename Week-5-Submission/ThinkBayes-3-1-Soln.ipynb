{
 "cells": [
  {
   "cell_type": "markdown",
   "metadata": {},
   "source": [
    "## Locomotive Problem using Bayes Theorem - Estimation\n",
    "\n",
    "In this variation of the loco problem, Allen has defined the problem below:\n",
    "\n",
    "Suppose instead that there are many companies with different numbers of trains. And suppose that you are equally likely to see any train operated by any company. In that case, the likelihood function is different because you are more likely to see a train operated by a large company.As an exercise, implement the likelihood function for this variation of the locomotive problem, and compare the results.\n",
    "\n",
    "So lets say total number of trains from the largest company is NValue. The Ovalue is the SUM of all other trains from diffrent company. Ofcourse, here we dont have sufficient background information but our chances of seeing any train from large loco is\n",
    "\n",
    "NValue/(NValue+OValue)\n",
    "\n",
    "If NValue is much higher than OValue, the OValue does not create much difference with respect to NValue. Which means the probabbility of seeing any train is 1/NValue.\n",
    "\n",
    "If NValue is much smaller than OValue. we will not have any variations as such. all trains from the large loco will have same probability.\n",
    "\n",
    "\n",
    "\n",
    "\n"
   ]
  },
  {
   "cell_type": "code",
   "execution_count": 23,
   "metadata": {},
   "outputs": [
    {
     "data": {
      "image/png": "[encoded data removed]",
      "text/plain": [
       "<matplotlib.figure.Figure at 0x11e138710>"
      ]
     },
     "metadata": {},
     "output_type": "display_data"
    }
   ],
   "source": [
    "from thinkbayes2 import Pmf\n",
    "import matplotlib.pyplot as plt\n",
    "\n",
    "def Update(pmf, data):\n",
    "    \"\"\"Updates the PMF with new data.\n",
    "    data: string cookie type\n",
    "        \"\"\"\n",
    "    #loop through each hypothesis under pmf, multiply with likelihood/  \n",
    "    for hypo in pmf:\n",
    "        pmf[hypo] = pmf[hypo] * Likelihood(hypo,data)\n",
    "    return pmf.Normalize()\n",
    "\n",
    "def Likelihood(hypo, data):\n",
    "        if hypo < data:\n",
    "            return 0\n",
    "        else:\n",
    "            return 1.0 /hypo\n",
    "    \n",
    "\n",
    "        \n",
    "def main():\n",
    "    \n",
    "    #Lets say the biggest loco company total train # is \n",
    "    \n",
    "    NValue = 1000\n",
    "    \n",
    "    #and total trains possed by all other companies are\n",
    "    \n",
    "    OValue = 600\n",
    "    \n",
    "    hypos = range(1, (NValue+OValue+1))\n",
    "    \n",
    "    pmf = Pmf(hypos)\n",
    "    \n",
    "    Update(pmf,60)\n",
    "\n",
    "    hs, ps = [], []\n",
    "    for hypo, prob in sorted(pmf.Items()):\n",
    "        hs.append(hypo)\n",
    "        ps.append(prob)\n",
    "    \n",
    "    plt.plot(hs, ps)\n",
    "    plt.xlabel('Number of trains')\n",
    "    plt.ylabel('Probability');\n",
    "    plt.show();\n",
    "\n",
    "if __name__ == '__main__':\n",
    "    main()"
   ]
  },
  {
   "cell_type": "code",
   "execution_count": null,
   "metadata": {
    "collapsed": true
   },
   "outputs": [],
   "source": []
  }
 ],
 "metadata": {
  "kernelspec": {
   "display_name": "Python 3",
   "language": "python",
   "name": "python3"
  },
  "language_info": {
   "codemirror_mode": {
    "name": "ipython",
    "version": 3
   },
   "file_extension": ".py",
   "mimetype": "text/x-python",
   "name": "python",
   "nbconvert_exporter": "python",
   "pygments_lexer": "ipython3",
   "version": "3.6.2"
  }
 },
 "nbformat": 4,
 "nbformat_minor": 2
}

{
 "cells": [
  {
   "cell_type": "markdown",
   "metadata": {},
   "source": [
    "Exercise 4.1. Suppose that instead of observing coin tosses directly, you measure\n",
    "the outcome using an instrument that is not always correct. Specifically, suppose\n",
    "there is a probability y that an actual heads is reported as tails, or actual tails reported\n",
    "as heads.\n",
    "Write a class that estimates the bias of a coin given a series of outcomes and the\n",
    "value of y.\n",
    "\n",
    "In this case allen has asked us to introduce noise. That means we conisder the machine computes wrong when it tries to measure. In this case there are only two outcomes. Either head or tail.\n",
    "\n",
    "That means if there is a Head, the computes are \n",
    "\n",
    "Probability Of Head X Noise + Probability Of Tail X (1-Noise)\n",
    "\n",
    "Otherway round, if its Tail;\n",
    "\n",
    "Probabability of Head X (1-Noise) + Probability Of Tail X (Noise)\n",
    "\n",
    "The same has implemented below with a Noise of .25\n"
   ]
  },
  {
   "cell_type": "code",
   "execution_count": 19,
   "metadata": {},
   "outputs": [
    {
     "data": {
      "image/png": "[encoded data removed]",
      "text/plain": [
       "<matplotlib.figure.Figure at 0x11f5e67f0>"
      ]
     },
     "metadata": {},
     "output_type": "display_data"
    }
   ],
   "source": [
    "from thinkbayes2 import Pmf, Hist\n",
    "import matplotlib.pyplot as plt\n",
    "\n",
    "def Update(pmf, data):\n",
    "    \"\"\"Updates the PMF with new data.\n",
    "        \"\"\"\n",
    "    #loop through each hypothesis under pmf, multiply with likelihood/  \n",
    "    for hypo in pmf:\n",
    "        pmf[hypo] = pmf[hypo] * Likelihood(hypo, data)\n",
    "    return pmf.Normalize()\n",
    "\n",
    "def Likelihood(hypo, data):\n",
    "    \"\"\"The likelihood of the data under the hypothesis\n",
    "        \"\"\"\n",
    "    noise = .25\n",
    "    prob = hypo/100\n",
    "    if data == 'H':\n",
    "        return prob*noise + (1-prob)*(1-noise)\n",
    "    else:\n",
    "        return prob*(1-noise) + (1-prob)*noise \n",
    "    return like\n",
    "    \n",
    "\n",
    "        \n",
    "def main():\n",
    "        \n",
    "    toss = 100;\n",
    "    hypos = range(1, (toss+1));\n",
    "    \n",
    "    pmf = Pmf(hypos);\n",
    "    \n",
    "    data = 'H' * 40 + 'T' * 60; \n",
    "    \n",
    "    for eachtoss in data:\n",
    "        Update(pmf, eachtoss)\n",
    "     \n",
    "    hs, ps = [], []\n",
    "    for hypo, prob in sorted(pmf.Items()):\n",
    "        hs.append(hypo)\n",
    "        ps.append(prob)\n",
    "    \n",
    "    plt.plot(hs, ps)\n",
    "    plt.xlabel('coin toss')\n",
    "    plt.ylabel('Probability');\n",
    "    plt.show();\n",
    "     \n",
    "if __name__ == '__main__':\n",
    "    main()"
   ]
  },
  {
   "cell_type": "code",
   "execution_count": null,
   "metadata": {
    "collapsed": true
   },
   "outputs": [],
   "source": []
  }
 ],
 "metadata": {
  "kernelspec": {
   "display_name": "Python 3",
   "language": "python",
   "name": "python3"
  },
  "language_info": {
   "codemirror_mode": {
    "name": "ipython",
    "version": 3
   },
   "file_extension": ".py",
   "mimetype": "text/x-python",
   "name": "python",
   "nbconvert_exporter": "python",
   "pygments_lexer": "ipython3",
   "version": "3.6.2"
  }
 },
 "nbformat": 4,
 "nbformat_minor": 2
}

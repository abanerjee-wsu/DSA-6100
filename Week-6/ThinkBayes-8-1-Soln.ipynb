{
 "cells": [
  {
   "cell_type": "markdown",
   "metadata": {},
   "source": [
    "## Excercise 8-1: Wait Times at Bus Stand\n",
    "This excercise ask us to predict the bus time when the buses are coming 5/10 mins interval. As a passenger, we would like to understand the wait times. this could go up \n",
    "\n",
    "If we arrive at a random time during a 5 minute gap, y is uniform from 0 to 5 minutes.If we arrive during a 10 minute gap, y is uniform from 0 to 10. So the overall distribution is a mixture of uniform distributions weighted according to the probability of each gap.\n",
    "\n",
    "to start with, I have created a list of gap times of bus arrival which we assume true or really happened. I increased that observation times N times ( in this case 200 times). In other words, let's say I go to the bus statation on daily basis and this is what happpened for 200 times. \n",
    "\n",
    "Then I assigned a uniform probabbility. \n",
    "\n",
    "Because we dont when the bus will arrive the distribution must be mixed with diffferent bounds. this is what happenes later in the PmfOfWaitTime. \n",
    "\n",
    "Once the observations are received, I have computed CDF with Scale distribution to every minute. To Do that, I have taken raw CDFs and Scaled them to fit our visualization."
   ]
  },
  {
   "cell_type": "code",
   "execution_count": 60,
   "metadata": {},
   "outputs": [
    {
     "data": {
      "image/png": "[encoded data removed]",
      "text/plain": [
       "<matplotlib.figure.Figure at 0x11bd135c0>"
      ]
     },
     "metadata": {},
     "output_type": "display_data"
    }
   ],
   "source": [
    "import thinkbayes2\n",
    "import thinkplot\n",
    "\n",
    "OBSERVED_GAP_TIMES = [300,600,300,600,300,300,600,600,300,600,600,600,600,300,300,300,300,300,600,600,600,600,300]\n",
    "\n",
    "def PmfOfWaitTime(pmf):\n",
    "    metapmf = thinkbayes2.Pmf()\n",
    "    for gap, prob in pmf.Items():\n",
    "        uniform = MakeUniformPmf(0, gap)\n",
    "        metapmf.Set(uniform, prob)\n",
    "\n",
    "    pmf_y = thinkbayes2.Pmf();\n",
    "\n",
    "    for pmf, p1 in metapmf.Items(): \n",
    "        for x, p2 in pmf.Items():\n",
    "            pmf_y[x] += p1 * p2\n",
    "    pmf_y.Normalize();\n",
    "    return pmf_y\n",
    "\n",
    "def MakeUniformPmf(low, high):\n",
    "    upmf = thinkbayes2.Pmf()\n",
    "    for x in MakeRange(low=low, high=high):\n",
    "        upmf.Set(x, 1)\n",
    "    upmf.Normalize()\n",
    "    return upmf\n",
    "\n",
    "def MakeRange(low, high, skip=10):\n",
    "    return range(low, high+skip, skip)\n",
    "\n",
    "def BiasPmf(pmf):\n",
    "    new_pmf = pmf.Copy()\n",
    "\n",
    "    for x, p in pmf.Items():\n",
    "        new_pmf.Mult(x, x)\n",
    "\n",
    "    new_pmf.Normalize()\n",
    "    return new_pmf\n",
    "\n",
    "def ScaleDists(dists, factor):\n",
    "    \"\"\"Scales each of the distributions in a sequence.\n",
    "    dists: sequence of Pmf or Cdf\n",
    "    factor: float scale factor\n",
    "    \"\"\"\n",
    "    return [dist.Scale(factor) for dist in dists]\n",
    "\n",
    "def main():\n",
    "    \n",
    "    n = 200\n",
    "    \n",
    "    cdf_z = thinkbayes2.MakeCdfFromList(OBSERVED_GAP_TIMES)\n",
    "    sample_z = cdf_z.Sample(n)\n",
    "    pmf_z = thinkbayes2.MakePmfFromList(sample_z)\n",
    "    \n",
    "    #BiasPmf(pmf_z);\n",
    "    \n",
    "    waitpmf = PmfOfWaitTime(pmf_z);\n",
    "\n",
    "    cdf_z1 = waitpmf.MakeCdf();\n",
    "  \n",
    "\n",
    "    cdfs = ScaleDists([cdf_z1], 1.0/60)\n",
    "\n",
    "    thinkplot.Cdfs(cdfs)\n",
    "    \n",
    "    thinkplot.Show(xlabel= 'Mins' , ylabel= 'CDF');\n",
    "\n",
    "\n",
    "if __name__ == '__main__':\n",
    "    main()"
   ]
  },
  {
   "cell_type": "code",
   "execution_count": null,
   "metadata": {
    "collapsed": true
   },
   "outputs": [],
   "source": []
  }
 ],
 "metadata": {
  "kernelspec": {
   "display_name": "Python 3",
   "language": "python",
   "name": "python3"
  },
  "language_info": {
   "codemirror_mode": {
    "name": "ipython",
    "version": 3
   },
   "file_extension": ".py",
   "mimetype": "text/x-python",
   "name": "python",
   "nbconvert_exporter": "python",
   "pygments_lexer": "ipython3",
   "version": "3.6.2"
  }
 },
 "nbformat": 4,
 "nbformat_minor": 2
}

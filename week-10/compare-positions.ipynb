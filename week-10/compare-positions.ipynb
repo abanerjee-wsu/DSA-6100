{
 "cells": [
  {
   "cell_type": "code",
   "execution_count": 1,
   "metadata": {
    "collapsed": true
   },
   "outputs": [],
   "source": [
    "import pandas as pd\n",
    "pd.options.display.float_format = '{:,.0f}'.format;\n",
    "import plotly \n",
    "plotly.tools.set_credentials_file(username='Anupam1987', api_key=\"8AOE3dfXTaUjeufbQMn8\")\n",
    "import plotly.plotly as py\n",
    "from plotly.graph_objs import *\n",
    "import matplotlib.pyplot as plt"
   ]
  },
  {
   "cell_type": "code",
   "execution_count": 5,
   "metadata": {
    "collapsed": true
   },
   "outputs": [],
   "source": [
    "def wrangle_position_data():\n",
    "    positions = pd.read_excel('input/positions.xlsx');\n",
    "    pos_country_skill = positions[['Required Skillset','Placement Country']];\n",
    "\n",
    "    newcols = {\n",
    "    'Required Skillset': 'Required_Skillset', \n",
    "    'Placement Country': 'Placement_Country'\n",
    "    }\n",
    "\n",
    "    pos_country_skill.rename(columns=newcols, inplace=True);\n",
    "    pos_country_skill.set_index(['Required_Skillset','Placement_Country'], inplace=True);\n",
    "    grouped_skill= pos_country_skill.groupby(level=['Placement_Country', 'Required_Skillset']).size().reset_index(name='Number_of_Openings');\n",
    "    grouped_skill.set_index('Required_Skillset', inplace=True);\n",
    "    pivoted_skill = grouped_skill.pivot_table(index='Required_Skillset', columns='Placement_Country', values='Number_of_Openings');\n",
    "    pivoted_skill = pivoted_skill.fillna(0);\n",
    "    \n",
    "    renamecolumns = {\n",
    "    'United States': 'USA'\n",
    "    }\n",
    "    pivoted_skill.rename(columns=renamecolumns, inplace=True);\n",
    "    return pivoted_skill;"
   ]
  },
  {
   "cell_type": "code",
   "execution_count": 6,
   "metadata": {},
   "outputs": [],
   "source": [
    "def plot_plotly_openings_data(pivoted_skill):\n",
    "    trace_US = Bar(x=pivoted_skill.index,\n",
    "                  y=pivoted_skill.USA,\n",
    "                  name='USA',\n",
    "                  marker=dict(color='#ffcdd2'))\n",
    "    trace_Malawi = Bar(x=pivoted_skill.index,\n",
    "                  y=pivoted_skill.Malawi,\n",
    "                  name='Malawi',\n",
    "                  marker=dict(color='#A2D5F2'))\n",
    "    trace_Rwanda = Bar(x=pivoted_skill.index,\n",
    "                  y=pivoted_skill.Rwanda,\n",
    "                  name='Rwanda',\n",
    "                  marker=dict(color='#59606D'))\n",
    "    trace_Uganda = Bar(x=pivoted_skill.index,\n",
    "                  y=pivoted_skill.Uganda,\n",
    "                  name='Uganda',\n",
    "                  marker=dict(color='#ff7f0e'))\n",
    "    trace_Zambia = Bar(x=pivoted_skill.index,\n",
    "                  y=pivoted_skill.Zambia,\n",
    "                  name='Zambia',\n",
    "                  marker=dict(color='#2ca02c'))\n",
    "\n",
    "    data = [trace_US,trace_Malawi,trace_Rwanda,trace_Uganda,trace_Zambia]\n",
    "\n",
    "    layout = Layout(title=\"Skills Required for Countries\",\n",
    "                xaxis=dict(title='Skills Set'),\n",
    "                yaxis=dict(title='Number of Openings '))\n",
    "    fig = Figure(data=data, layout=layout)\n",
    "\n",
    "    return py.iplot(fig, filename='styled_bar')"
   ]
  },
  {
   "cell_type": "code",
   "execution_count": 7,
   "metadata": {},
   "outputs": [
    {
     "name": "stderr",
     "output_type": "stream",
     "text": [
      "/Users/anupambanerjee/anaconda/envs/py36/lib/python3.6/site-packages/pandas/core/frame.py:2746: SettingWithCopyWarning:\n",
      "\n",
      "\n",
      "A value is trying to be set on a copy of a slice from a DataFrame\n",
      "\n",
      "See the caveats in the documentation: http://pandas.pydata.org/pandas-docs/stable/indexing.html#indexing-view-versus-copy\n",
      "\n"
     ]
    }
   ],
   "source": [
    "pivoted_skill = wrangle_position_data();\n",
    "plot = plot_plotly_openings_data(pivoted_skill);"
   ]
  },
  {
   "cell_type": "code",
   "execution_count": 8,
   "metadata": {},
   "outputs": [
    {
     "data": {
      "text/html": [
       "<iframe id=\"igraph\" scrolling=\"no\" style=\"border:none;\" seamless=\"seamless\" src=\"https://plot.ly/~Anupam1987/3.embed\" height=\"525px\" width=\"100%\"></iframe>"
      ],
      "text/plain": [
       "<plotly.tools.PlotlyDisplay object>"
      ]
     },
     "execution_count": 8,
     "metadata": {},
     "output_type": "execute_result"
    }
   ],
   "source": [
    "plot"
   ]
  },
  {
   "cell_type": "code",
   "execution_count": null,
   "metadata": {
    "collapsed": true
   },
   "outputs": [],
   "source": []
  }
 ],
 "metadata": {
  "kernelspec": {
   "display_name": "Python 3",
   "language": "python",
   "name": "python3"
  },
  "language_info": {
   "codemirror_mode": {
    "name": "ipython",
    "version": 3
   },
   "file_extension": ".py",
   "mimetype": "text/x-python",
   "name": "python",
   "nbconvert_exporter": "python",
   "pygments_lexer": "ipython3",
   "version": "3.6.2"
  }
 },
 "nbformat": 4,
 "nbformat_minor": 2
}
